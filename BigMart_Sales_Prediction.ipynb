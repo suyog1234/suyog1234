{
 "cells": [
  {
   "cell_type": "code",
   "execution_count": 1,
   "id": "04a389ae",
   "metadata": {},
   "outputs": [],
   "source": [
    "import pandas as pd\n",
    "import numpy as np\n",
    "import seaborn as sns\n",
    "import matplotlib.pyplot as plt\n",
    "from sklearn.model_selection import train_test_split\n",
    "from sklearn.pipeline import Pipeline\n",
    "from feature_engine import imputation as mdi\n",
    "import scipy.stats as stats\n",
    "import feature_engine\n",
    "from sklearn.linear_model import LogisticRegression\n",
    "from sklearn.linear_model import RidgeClassifier"
   ]
  },
  {
   "cell_type": "code",
   "execution_count": 2,
   "id": "ca307378",
   "metadata": {},
   "outputs": [],
   "source": [
    "df_train = pd.read_csv('D:/Learning/BigMart SalesPrediction/train.csv')"
   ]
  },
  {
   "cell_type": "code",
   "execution_count": 3,
   "id": "2ff0299b",
   "metadata": {},
   "outputs": [
    {
     "data": {
      "text/html": [
       "<div>\n",
       "<style scoped>\n",
       "    .dataframe tbody tr th:only-of-type {\n",
       "        vertical-align: middle;\n",
       "    }\n",
       "\n",
       "    .dataframe tbody tr th {\n",
       "        vertical-align: top;\n",
       "    }\n",
       "\n",
       "    .dataframe thead th {\n",
       "        text-align: right;\n",
       "    }\n",
       "</style>\n",
       "<table border=\"1\" class=\"dataframe\">\n",
       "  <thead>\n",
       "    <tr style=\"text-align: right;\">\n",
       "      <th></th>\n",
       "      <th>Item_Identifier</th>\n",
       "      <th>Item_Weight</th>\n",
       "      <th>Item_Fat_Content</th>\n",
       "      <th>Item_Visibility</th>\n",
       "      <th>Item_Type</th>\n",
       "      <th>Item_MRP</th>\n",
       "      <th>Outlet_Identifier</th>\n",
       "      <th>Outlet_Establishment_Year</th>\n",
       "      <th>Outlet_Size</th>\n",
       "      <th>Outlet_Location_Type</th>\n",
       "      <th>Outlet_Type</th>\n",
       "      <th>Item_Outlet_Sales</th>\n",
       "    </tr>\n",
       "  </thead>\n",
       "  <tbody>\n",
       "    <tr>\n",
       "      <th>0</th>\n",
       "      <td>FDA15</td>\n",
       "      <td>9.30</td>\n",
       "      <td>Low Fat</td>\n",
       "      <td>0.016047</td>\n",
       "      <td>Dairy</td>\n",
       "      <td>249.8092</td>\n",
       "      <td>OUT049</td>\n",
       "      <td>1999</td>\n",
       "      <td>Medium</td>\n",
       "      <td>Tier 1</td>\n",
       "      <td>Supermarket Type1</td>\n",
       "      <td>3735.1380</td>\n",
       "    </tr>\n",
       "    <tr>\n",
       "      <th>1</th>\n",
       "      <td>DRC01</td>\n",
       "      <td>5.92</td>\n",
       "      <td>Regular</td>\n",
       "      <td>0.019278</td>\n",
       "      <td>Soft Drinks</td>\n",
       "      <td>48.2692</td>\n",
       "      <td>OUT018</td>\n",
       "      <td>2009</td>\n",
       "      <td>Medium</td>\n",
       "      <td>Tier 3</td>\n",
       "      <td>Supermarket Type2</td>\n",
       "      <td>443.4228</td>\n",
       "    </tr>\n",
       "    <tr>\n",
       "      <th>2</th>\n",
       "      <td>FDN15</td>\n",
       "      <td>17.50</td>\n",
       "      <td>Low Fat</td>\n",
       "      <td>0.016760</td>\n",
       "      <td>Meat</td>\n",
       "      <td>141.6180</td>\n",
       "      <td>OUT049</td>\n",
       "      <td>1999</td>\n",
       "      <td>Medium</td>\n",
       "      <td>Tier 1</td>\n",
       "      <td>Supermarket Type1</td>\n",
       "      <td>2097.2700</td>\n",
       "    </tr>\n",
       "    <tr>\n",
       "      <th>3</th>\n",
       "      <td>FDX07</td>\n",
       "      <td>19.20</td>\n",
       "      <td>Regular</td>\n",
       "      <td>0.000000</td>\n",
       "      <td>Fruits and Vegetables</td>\n",
       "      <td>182.0950</td>\n",
       "      <td>OUT010</td>\n",
       "      <td>1998</td>\n",
       "      <td>NaN</td>\n",
       "      <td>Tier 3</td>\n",
       "      <td>Grocery Store</td>\n",
       "      <td>732.3800</td>\n",
       "    </tr>\n",
       "    <tr>\n",
       "      <th>4</th>\n",
       "      <td>NCD19</td>\n",
       "      <td>8.93</td>\n",
       "      <td>Low Fat</td>\n",
       "      <td>0.000000</td>\n",
       "      <td>Household</td>\n",
       "      <td>53.8614</td>\n",
       "      <td>OUT013</td>\n",
       "      <td>1987</td>\n",
       "      <td>High</td>\n",
       "      <td>Tier 3</td>\n",
       "      <td>Supermarket Type1</td>\n",
       "      <td>994.7052</td>\n",
       "    </tr>\n",
       "  </tbody>\n",
       "</table>\n",
       "</div>"
      ],
      "text/plain": [
       "  Item_Identifier  Item_Weight Item_Fat_Content  Item_Visibility  \\\n",
       "0           FDA15         9.30          Low Fat         0.016047   \n",
       "1           DRC01         5.92          Regular         0.019278   \n",
       "2           FDN15        17.50          Low Fat         0.016760   \n",
       "3           FDX07        19.20          Regular         0.000000   \n",
       "4           NCD19         8.93          Low Fat         0.000000   \n",
       "\n",
       "               Item_Type  Item_MRP Outlet_Identifier  \\\n",
       "0                  Dairy  249.8092            OUT049   \n",
       "1            Soft Drinks   48.2692            OUT018   \n",
       "2                   Meat  141.6180            OUT049   \n",
       "3  Fruits and Vegetables  182.0950            OUT010   \n",
       "4              Household   53.8614            OUT013   \n",
       "\n",
       "   Outlet_Establishment_Year Outlet_Size Outlet_Location_Type  \\\n",
       "0                       1999      Medium               Tier 1   \n",
       "1                       2009      Medium               Tier 3   \n",
       "2                       1999      Medium               Tier 1   \n",
       "3                       1998         NaN               Tier 3   \n",
       "4                       1987        High               Tier 3   \n",
       "\n",
       "         Outlet_Type  Item_Outlet_Sales  \n",
       "0  Supermarket Type1          3735.1380  \n",
       "1  Supermarket Type2           443.4228  \n",
       "2  Supermarket Type1          2097.2700  \n",
       "3      Grocery Store           732.3800  \n",
       "4  Supermarket Type1           994.7052  "
      ]
     },
     "execution_count": 3,
     "metadata": {},
     "output_type": "execute_result"
    }
   ],
   "source": [
    "df_train.head()"
   ]
  },
  {
   "cell_type": "code",
   "execution_count": 4,
   "id": "20243916",
   "metadata": {},
   "outputs": [
    {
     "name": "stdout",
     "output_type": "stream",
     "text": [
      "<class 'pandas.core.frame.DataFrame'>\n",
      "RangeIndex: 8523 entries, 0 to 8522\n",
      "Data columns (total 12 columns):\n",
      " #   Column                     Non-Null Count  Dtype  \n",
      "---  ------                     --------------  -----  \n",
      " 0   Item_Identifier            8523 non-null   object \n",
      " 1   Item_Weight                7060 non-null   float64\n",
      " 2   Item_Fat_Content           8523 non-null   object \n",
      " 3   Item_Visibility            8523 non-null   float64\n",
      " 4   Item_Type                  8523 non-null   object \n",
      " 5   Item_MRP                   8523 non-null   float64\n",
      " 6   Outlet_Identifier          8523 non-null   object \n",
      " 7   Outlet_Establishment_Year  8523 non-null   int64  \n",
      " 8   Outlet_Size                6113 non-null   object \n",
      " 9   Outlet_Location_Type       8523 non-null   object \n",
      " 10  Outlet_Type                8523 non-null   object \n",
      " 11  Item_Outlet_Sales          8523 non-null   float64\n",
      "dtypes: float64(4), int64(1), object(7)\n",
      "memory usage: 799.2+ KB\n"
     ]
    }
   ],
   "source": [
    "df_train.info()"
   ]
  },
  {
   "cell_type": "code",
   "execution_count": 5,
   "id": "bc4df6d7",
   "metadata": {},
   "outputs": [
    {
     "data": {
      "text/plain": [
       "FDW13    10\n",
       "FDG33    10\n",
       "NCY18     9\n",
       "FDD38     9\n",
       "DRE49     9\n",
       "         ..\n",
       "FDY43     1\n",
       "FDQ60     1\n",
       "FDO33     1\n",
       "DRF48     1\n",
       "FDC23     1\n",
       "Name: Item_Identifier, Length: 1559, dtype: int64"
      ]
     },
     "execution_count": 5,
     "metadata": {},
     "output_type": "execute_result"
    }
   ],
   "source": [
    "df_train['Item_Identifier'].value_counts()"
   ]
  },
  {
   "cell_type": "code",
   "execution_count": 6,
   "id": "0308dcfc",
   "metadata": {},
   "outputs": [
    {
     "data": {
      "text/plain": [
       "Low Fat    5089\n",
       "Regular    2889\n",
       "LF          316\n",
       "reg         117\n",
       "low fat     112\n",
       "Name: Item_Fat_Content, dtype: int64"
      ]
     },
     "execution_count": 6,
     "metadata": {},
     "output_type": "execute_result"
    }
   ],
   "source": [
    "df_train['Item_Fat_Content'].value_counts()"
   ]
  },
  {
   "cell_type": "code",
   "execution_count": 7,
   "id": "bd7bf5ec",
   "metadata": {},
   "outputs": [
    {
     "data": {
      "text/plain": [
       "0.000000    526\n",
       "0.076975      3\n",
       "0.162462      2\n",
       "0.076841      2\n",
       "0.073562      2\n",
       "           ... \n",
       "0.013957      1\n",
       "0.110460      1\n",
       "0.124646      1\n",
       "0.054142      1\n",
       "0.044878      1\n",
       "Name: Item_Visibility, Length: 7880, dtype: int64"
      ]
     },
     "execution_count": 7,
     "metadata": {},
     "output_type": "execute_result"
    }
   ],
   "source": [
    "df_train['Item_Visibility'].value_counts()"
   ]
  },
  {
   "cell_type": "code",
   "execution_count": 8,
   "id": "ef03b95c",
   "metadata": {},
   "outputs": [
    {
     "data": {
      "text/plain": [
       "Fruits and Vegetables    1232\n",
       "Snack Foods              1200\n",
       "Household                 910\n",
       "Frozen Foods              856\n",
       "Dairy                     682\n",
       "Canned                    649\n",
       "Baking Goods              648\n",
       "Health and Hygiene        520\n",
       "Soft Drinks               445\n",
       "Meat                      425\n",
       "Breads                    251\n",
       "Hard Drinks               214\n",
       "Others                    169\n",
       "Starchy Foods             148\n",
       "Breakfast                 110\n",
       "Seafood                    64\n",
       "Name: Item_Type, dtype: int64"
      ]
     },
     "execution_count": 8,
     "metadata": {},
     "output_type": "execute_result"
    }
   ],
   "source": [
    "df_train['Item_Type'].value_counts()"
   ]
  },
  {
   "cell_type": "code",
   "execution_count": 9,
   "id": "341baed9",
   "metadata": {},
   "outputs": [
    {
     "data": {
      "text/plain": [
       "172.0422    7\n",
       "170.5422    6\n",
       "196.5084    6\n",
       "188.1872    6\n",
       "142.0154    6\n",
       "           ..\n",
       "97.3384     1\n",
       "83.1934     1\n",
       "96.6752     1\n",
       "152.6682    1\n",
       "75.4670     1\n",
       "Name: Item_MRP, Length: 5938, dtype: int64"
      ]
     },
     "execution_count": 9,
     "metadata": {},
     "output_type": "execute_result"
    }
   ],
   "source": [
    "df_train['Item_MRP'].value_counts()"
   ]
  },
  {
   "cell_type": "code",
   "execution_count": 10,
   "id": "6779cce7",
   "metadata": {},
   "outputs": [
    {
     "data": {
      "text/plain": [
       "OUT027    935\n",
       "OUT013    932\n",
       "OUT049    930\n",
       "OUT046    930\n",
       "OUT035    930\n",
       "OUT045    929\n",
       "OUT018    928\n",
       "OUT017    926\n",
       "OUT010    555\n",
       "OUT019    528\n",
       "Name: Outlet_Identifier, dtype: int64"
      ]
     },
     "execution_count": 10,
     "metadata": {},
     "output_type": "execute_result"
    }
   ],
   "source": [
    "df_train['Outlet_Identifier'].value_counts()"
   ]
  },
  {
   "cell_type": "code",
   "execution_count": 11,
   "id": "29bb400b",
   "metadata": {},
   "outputs": [
    {
     "data": {
      "text/plain": [
       "Medium    2793\n",
       "Small     2388\n",
       "High       932\n",
       "Name: Outlet_Size, dtype: int64"
      ]
     },
     "execution_count": 11,
     "metadata": {},
     "output_type": "execute_result"
    }
   ],
   "source": [
    "df_train['Outlet_Size'].value_counts()"
   ]
  },
  {
   "cell_type": "code",
   "execution_count": 12,
   "id": "fd1c4264",
   "metadata": {},
   "outputs": [
    {
     "data": {
      "text/plain": [
       "Tier 3    3350\n",
       "Tier 2    2785\n",
       "Tier 1    2388\n",
       "Name: Outlet_Location_Type, dtype: int64"
      ]
     },
     "execution_count": 12,
     "metadata": {},
     "output_type": "execute_result"
    }
   ],
   "source": [
    "df_train['Outlet_Location_Type'].value_counts()"
   ]
  },
  {
   "cell_type": "code",
   "execution_count": 13,
   "id": "ee9702fc",
   "metadata": {},
   "outputs": [
    {
     "data": {
      "text/plain": [
       "Supermarket Type1    5577\n",
       "Grocery Store        1083\n",
       "Supermarket Type3     935\n",
       "Supermarket Type2     928\n",
       "Name: Outlet_Type, dtype: int64"
      ]
     },
     "execution_count": 13,
     "metadata": {},
     "output_type": "execute_result"
    }
   ],
   "source": [
    "df_train['Outlet_Type'].value_counts()"
   ]
  },
  {
   "cell_type": "code",
   "execution_count": 14,
   "id": "d69f33c0",
   "metadata": {},
   "outputs": [
    {
     "data": {
      "text/plain": [
       "Item_Identifier                 0\n",
       "Item_Weight                  1463\n",
       "Item_Fat_Content                0\n",
       "Item_Visibility                 0\n",
       "Item_Type                       0\n",
       "Item_MRP                        0\n",
       "Outlet_Identifier               0\n",
       "Outlet_Establishment_Year       0\n",
       "Outlet_Size                  2410\n",
       "Outlet_Location_Type            0\n",
       "Outlet_Type                     0\n",
       "Item_Outlet_Sales               0\n",
       "dtype: int64"
      ]
     },
     "execution_count": 14,
     "metadata": {},
     "output_type": "execute_result"
    }
   ],
   "source": [
    "df_train.isnull().sum()"
   ]
  },
  {
   "cell_type": "code",
   "execution_count": 15,
   "id": "f85b4277",
   "metadata": {},
   "outputs": [],
   "source": [
    "#set threshold\n",
    "threshold = 0.7\n",
    "\n",
    "# dropping columns with missing value rate higher than threshold\n",
    "df_train = df_train[df_train.columns[df_train.isnull().mean() < threshold]]"
   ]
  },
  {
   "cell_type": "code",
   "execution_count": 16,
   "id": "e79049b7",
   "metadata": {},
   "outputs": [
    {
     "data": {
      "text/plain": [
       "Item_Identifier                 0\n",
       "Item_Weight                  1463\n",
       "Item_Fat_Content                0\n",
       "Item_Visibility                 0\n",
       "Item_Type                       0\n",
       "Item_MRP                        0\n",
       "Outlet_Identifier               0\n",
       "Outlet_Establishment_Year       0\n",
       "Outlet_Size                  2410\n",
       "Outlet_Location_Type            0\n",
       "Outlet_Type                     0\n",
       "Item_Outlet_Sales               0\n",
       "dtype: int64"
      ]
     },
     "execution_count": 16,
     "metadata": {},
     "output_type": "execute_result"
    }
   ],
   "source": [
    "df_train.isnull().sum()"
   ]
  },
  {
   "cell_type": "code",
   "execution_count": 17,
   "id": "6156911a",
   "metadata": {},
   "outputs": [],
   "source": [
    "X_train,X_test,y_train,y_test = train_test_split(df_train.drop('Item_Outlet_Sales',axis=1),df_train['Item_Outlet_Sales'],test_size=0.25,random_state=42, shuffle=True)"
   ]
  },
  {
   "cell_type": "code",
   "execution_count": 18,
   "id": "579ec0d1",
   "metadata": {},
   "outputs": [
    {
     "data": {
      "text/html": [
       "<div>\n",
       "<style scoped>\n",
       "    .dataframe tbody tr th:only-of-type {\n",
       "        vertical-align: middle;\n",
       "    }\n",
       "\n",
       "    .dataframe tbody tr th {\n",
       "        vertical-align: top;\n",
       "    }\n",
       "\n",
       "    .dataframe thead th {\n",
       "        text-align: right;\n",
       "    }\n",
       "</style>\n",
       "<table border=\"1\" class=\"dataframe\">\n",
       "  <thead>\n",
       "    <tr style=\"text-align: right;\">\n",
       "      <th></th>\n",
       "      <th>Item_Identifier</th>\n",
       "      <th>Item_Weight</th>\n",
       "      <th>Item_Fat_Content</th>\n",
       "      <th>Item_Visibility</th>\n",
       "      <th>Item_Type</th>\n",
       "      <th>Item_MRP</th>\n",
       "      <th>Outlet_Identifier</th>\n",
       "      <th>Outlet_Establishment_Year</th>\n",
       "      <th>Outlet_Size</th>\n",
       "      <th>Outlet_Location_Type</th>\n",
       "      <th>Outlet_Type</th>\n",
       "    </tr>\n",
       "  </thead>\n",
       "  <tbody>\n",
       "    <tr>\n",
       "      <th>4776</th>\n",
       "      <td>NCG06</td>\n",
       "      <td>16.350</td>\n",
       "      <td>Low Fat</td>\n",
       "      <td>0.029565</td>\n",
       "      <td>Household</td>\n",
       "      <td>256.4646</td>\n",
       "      <td>OUT018</td>\n",
       "      <td>2009</td>\n",
       "      <td>Medium</td>\n",
       "      <td>Tier 3</td>\n",
       "      <td>Supermarket Type2</td>\n",
       "    </tr>\n",
       "    <tr>\n",
       "      <th>7510</th>\n",
       "      <td>FDV57</td>\n",
       "      <td>15.250</td>\n",
       "      <td>Regular</td>\n",
       "      <td>0.000000</td>\n",
       "      <td>Snack Foods</td>\n",
       "      <td>179.7660</td>\n",
       "      <td>OUT018</td>\n",
       "      <td>2009</td>\n",
       "      <td>Medium</td>\n",
       "      <td>Tier 3</td>\n",
       "      <td>Supermarket Type2</td>\n",
       "    </tr>\n",
       "    <tr>\n",
       "      <th>5828</th>\n",
       "      <td>FDM27</td>\n",
       "      <td>12.350</td>\n",
       "      <td>Regular</td>\n",
       "      <td>0.158716</td>\n",
       "      <td>Meat</td>\n",
       "      <td>157.2946</td>\n",
       "      <td>OUT049</td>\n",
       "      <td>1999</td>\n",
       "      <td>Medium</td>\n",
       "      <td>Tier 1</td>\n",
       "      <td>Supermarket Type1</td>\n",
       "    </tr>\n",
       "    <tr>\n",
       "      <th>5327</th>\n",
       "      <td>FDG24</td>\n",
       "      <td>7.975</td>\n",
       "      <td>Low Fat</td>\n",
       "      <td>0.014628</td>\n",
       "      <td>Baking Goods</td>\n",
       "      <td>82.3250</td>\n",
       "      <td>OUT035</td>\n",
       "      <td>2004</td>\n",
       "      <td>Small</td>\n",
       "      <td>Tier 2</td>\n",
       "      <td>Supermarket Type1</td>\n",
       "    </tr>\n",
       "    <tr>\n",
       "      <th>4810</th>\n",
       "      <td>FDD05</td>\n",
       "      <td>19.350</td>\n",
       "      <td>Low Fat</td>\n",
       "      <td>0.016645</td>\n",
       "      <td>Frozen Foods</td>\n",
       "      <td>120.9098</td>\n",
       "      <td>OUT045</td>\n",
       "      <td>2002</td>\n",
       "      <td>NaN</td>\n",
       "      <td>Tier 2</td>\n",
       "      <td>Supermarket Type1</td>\n",
       "    </tr>\n",
       "  </tbody>\n",
       "</table>\n",
       "</div>"
      ],
      "text/plain": [
       "     Item_Identifier  Item_Weight Item_Fat_Content  Item_Visibility  \\\n",
       "4776           NCG06       16.350          Low Fat         0.029565   \n",
       "7510           FDV57       15.250          Regular         0.000000   \n",
       "5828           FDM27       12.350          Regular         0.158716   \n",
       "5327           FDG24        7.975          Low Fat         0.014628   \n",
       "4810           FDD05       19.350          Low Fat         0.016645   \n",
       "\n",
       "         Item_Type  Item_MRP Outlet_Identifier  Outlet_Establishment_Year  \\\n",
       "4776     Household  256.4646            OUT018                       2009   \n",
       "7510   Snack Foods  179.7660            OUT018                       2009   \n",
       "5828          Meat  157.2946            OUT049                       1999   \n",
       "5327  Baking Goods   82.3250            OUT035                       2004   \n",
       "4810  Frozen Foods  120.9098            OUT045                       2002   \n",
       "\n",
       "     Outlet_Size Outlet_Location_Type        Outlet_Type  \n",
       "4776      Medium               Tier 3  Supermarket Type2  \n",
       "7510      Medium               Tier 3  Supermarket Type2  \n",
       "5828      Medium               Tier 1  Supermarket Type1  \n",
       "5327       Small               Tier 2  Supermarket Type1  \n",
       "4810         NaN               Tier 2  Supermarket Type1  "
      ]
     },
     "execution_count": 18,
     "metadata": {},
     "output_type": "execute_result"
    }
   ],
   "source": [
    "X_train.head()"
   ]
  },
  {
   "cell_type": "code",
   "execution_count": 19,
   "id": "5655a545",
   "metadata": {},
   "outputs": [],
   "source": [
    "X_train['Item_Weight'] = X_train['Item_Weight'].fillna(X_train['Item_Weight'].mean())"
   ]
  },
  {
   "cell_type": "code",
   "execution_count": 20,
   "id": "a6375dd9",
   "metadata": {},
   "outputs": [],
   "source": [
    "X_train['Outlet_Size'] = X_train['Outlet_Size'].fillna('High')"
   ]
  },
  {
   "cell_type": "code",
   "execution_count": 21,
   "id": "805c2823",
   "metadata": {},
   "outputs": [
    {
     "data": {
      "text/plain": [
       "Item_Identifier              0\n",
       "Item_Weight                  0\n",
       "Item_Fat_Content             0\n",
       "Item_Visibility              0\n",
       "Item_Type                    0\n",
       "Item_MRP                     0\n",
       "Outlet_Identifier            0\n",
       "Outlet_Establishment_Year    0\n",
       "Outlet_Size                  0\n",
       "Outlet_Location_Type         0\n",
       "Outlet_Type                  0\n",
       "dtype: int64"
      ]
     },
     "execution_count": 21,
     "metadata": {},
     "output_type": "execute_result"
    }
   ],
   "source": [
    "X_train.isnull().sum()"
   ]
  },
  {
   "cell_type": "code",
   "execution_count": 22,
   "id": "e54639f7",
   "metadata": {},
   "outputs": [
    {
     "data": {
      "text/plain": [
       "High      2501\n",
       "Medium    2103\n",
       "Small     1788\n",
       "Name: Outlet_Size, dtype: int64"
      ]
     },
     "execution_count": 22,
     "metadata": {},
     "output_type": "execute_result"
    }
   ],
   "source": [
    "X_train['Outlet_Size'].value_counts()"
   ]
  },
  {
   "cell_type": "code",
   "execution_count": 23,
   "id": "267f1b6f",
   "metadata": {},
   "outputs": [
    {
     "data": {
      "text/plain": [
       "12.904458    1107\n",
       "12.150000      62\n",
       "17.600000      60\n",
       "13.650000      57\n",
       "11.800000      55\n",
       "             ... \n",
       "4.590000        1\n",
       "8.485000        1\n",
       "6.170000        1\n",
       "7.685000        1\n",
       "5.155000        1\n",
       "Name: Item_Weight, Length: 413, dtype: int64"
      ]
     },
     "execution_count": 23,
     "metadata": {},
     "output_type": "execute_result"
    }
   ],
   "source": [
    "X_train['Item_Weight'].value_counts()"
   ]
  },
  {
   "cell_type": "code",
   "execution_count": 24,
   "id": "92755cc2",
   "metadata": {},
   "outputs": [],
   "source": [
    "corrMatrix = X_train.corr()"
   ]
  },
  {
   "cell_type": "code",
   "execution_count": 25,
   "id": "3f48af08",
   "metadata": {},
   "outputs": [
    {
     "data": {
      "image/png": "[encoded data removed]",
      "text/plain": [
       "<Figure size 432x288 with 2 Axes>"
      ]
     },
     "metadata": {
      "needs_background": "light"
     },
     "output_type": "display_data"
    }
   ],
   "source": [
    "sns.heatmap(corrMatrix, annot=True)\n",
    "plt.show()"
   ]
  },
  {
   "cell_type": "code",
   "execution_count": 26,
   "id": "5f4766b5",
   "metadata": {},
   "outputs": [
    {
     "data": {
      "text/html": [
       "<div>\n",
       "<style scoped>\n",
       "    .dataframe tbody tr th:only-of-type {\n",
       "        vertical-align: middle;\n",
       "    }\n",
       "\n",
       "    .dataframe tbody tr th {\n",
       "        vertical-align: top;\n",
       "    }\n",
       "\n",
       "    .dataframe thead th {\n",
       "        text-align: right;\n",
       "    }\n",
       "</style>\n",
       "<table border=\"1\" class=\"dataframe\">\n",
       "  <thead>\n",
       "    <tr style=\"text-align: right;\">\n",
       "      <th></th>\n",
       "      <th>Item_Identifier</th>\n",
       "      <th>Item_Weight</th>\n",
       "      <th>Item_Fat_Content</th>\n",
       "      <th>Item_Visibility</th>\n",
       "      <th>Item_Type</th>\n",
       "      <th>Item_MRP</th>\n",
       "      <th>Outlet_Identifier</th>\n",
       "      <th>Outlet_Establishment_Year</th>\n",
       "      <th>Outlet_Size</th>\n",
       "      <th>Outlet_Location_Type</th>\n",
       "      <th>Outlet_Type</th>\n",
       "    </tr>\n",
       "  </thead>\n",
       "  <tbody>\n",
       "    <tr>\n",
       "      <th>4776</th>\n",
       "      <td>NCG06</td>\n",
       "      <td>16.350</td>\n",
       "      <td>Low Fat</td>\n",
       "      <td>0.029565</td>\n",
       "      <td>Household</td>\n",
       "      <td>256.4646</td>\n",
       "      <td>OUT018</td>\n",
       "      <td>2009</td>\n",
       "      <td>Medium</td>\n",
       "      <td>Tier 3</td>\n",
       "      <td>Supermarket Type2</td>\n",
       "    </tr>\n",
       "    <tr>\n",
       "      <th>7510</th>\n",
       "      <td>FDV57</td>\n",
       "      <td>15.250</td>\n",
       "      <td>Regular</td>\n",
       "      <td>0.000000</td>\n",
       "      <td>Snack Foods</td>\n",
       "      <td>179.7660</td>\n",
       "      <td>OUT018</td>\n",
       "      <td>2009</td>\n",
       "      <td>Medium</td>\n",
       "      <td>Tier 3</td>\n",
       "      <td>Supermarket Type2</td>\n",
       "    </tr>\n",
       "    <tr>\n",
       "      <th>5828</th>\n",
       "      <td>FDM27</td>\n",
       "      <td>12.350</td>\n",
       "      <td>Regular</td>\n",
       "      <td>0.158716</td>\n",
       "      <td>Meat</td>\n",
       "      <td>157.2946</td>\n",
       "      <td>OUT049</td>\n",
       "      <td>1999</td>\n",
       "      <td>Medium</td>\n",
       "      <td>Tier 1</td>\n",
       "      <td>Supermarket Type1</td>\n",
       "    </tr>\n",
       "    <tr>\n",
       "      <th>5327</th>\n",
       "      <td>FDG24</td>\n",
       "      <td>7.975</td>\n",
       "      <td>Low Fat</td>\n",
       "      <td>0.014628</td>\n",
       "      <td>Baking Goods</td>\n",
       "      <td>82.3250</td>\n",
       "      <td>OUT035</td>\n",
       "      <td>2004</td>\n",
       "      <td>Small</td>\n",
       "      <td>Tier 2</td>\n",
       "      <td>Supermarket Type1</td>\n",
       "    </tr>\n",
       "    <tr>\n",
       "      <th>4810</th>\n",
       "      <td>FDD05</td>\n",
       "      <td>19.350</td>\n",
       "      <td>Low Fat</td>\n",
       "      <td>0.016645</td>\n",
       "      <td>Frozen Foods</td>\n",
       "      <td>120.9098</td>\n",
       "      <td>OUT045</td>\n",
       "      <td>2002</td>\n",
       "      <td>High</td>\n",
       "      <td>Tier 2</td>\n",
       "      <td>Supermarket Type1</td>\n",
       "    </tr>\n",
       "  </tbody>\n",
       "</table>\n",
       "</div>"
      ],
      "text/plain": [
       "     Item_Identifier  Item_Weight Item_Fat_Content  Item_Visibility  \\\n",
       "4776           NCG06       16.350          Low Fat         0.029565   \n",
       "7510           FDV57       15.250          Regular         0.000000   \n",
       "5828           FDM27       12.350          Regular         0.158716   \n",
       "5327           FDG24        7.975          Low Fat         0.014628   \n",
       "4810           FDD05       19.350          Low Fat         0.016645   \n",
       "\n",
       "         Item_Type  Item_MRP Outlet_Identifier  Outlet_Establishment_Year  \\\n",
       "4776     Household  256.4646            OUT018                       2009   \n",
       "7510   Snack Foods  179.7660            OUT018                       2009   \n",
       "5828          Meat  157.2946            OUT049                       1999   \n",
       "5327  Baking Goods   82.3250            OUT035                       2004   \n",
       "4810  Frozen Foods  120.9098            OUT045                       2002   \n",
       "\n",
       "     Outlet_Size Outlet_Location_Type        Outlet_Type  \n",
       "4776      Medium               Tier 3  Supermarket Type2  \n",
       "7510      Medium               Tier 3  Supermarket Type2  \n",
       "5828      Medium               Tier 1  Supermarket Type1  \n",
       "5327       Small               Tier 2  Supermarket Type1  \n",
       "4810        High               Tier 2  Supermarket Type1  "
      ]
     },
     "execution_count": 26,
     "metadata": {},
     "output_type": "execute_result"
    }
   ],
   "source": [
    "X_train.head()"
   ]
  },
  {
   "cell_type": "code",
   "execution_count": 27,
   "id": "ff5951d7",
   "metadata": {},
   "outputs": [],
   "source": [
    "X_train['Outlet_Establishment_Year'] = X_train['Outlet_Establishment_Year'].apply(str)"
   ]
  },
  {
   "cell_type": "code",
   "execution_count": 28,
   "id": "6ce2c567",
   "metadata": {},
   "outputs": [],
   "source": [
    "from sklearn import preprocessing \n",
    "label_encoder = preprocessing.LabelEncoder() \n",
    "X_train['Item_Identifier']= label_encoder.fit_transform(X_train['Item_Identifier'])\n",
    "X_train['Item_Fat_Content']= label_encoder.fit_transform(X_train['Item_Fat_Content'])\n",
    "X_train['Item_Type']= label_encoder.fit_transform(X_train['Item_Type'])\n",
    "X_train['Outlet_Identifier']= label_encoder.fit_transform(X_train['Outlet_Identifier'])\n",
    "X_train['Outlet_Establishment_Year']= label_encoder.fit_transform(X_train['Outlet_Establishment_Year'])\n",
    "X_train['Outlet_Size']=label_encoder.fit_transform(X_train['Outlet_Size'])\n",
    "X_train['Outlet_Location_Type']=label_encoder.fit_transform(X_train['Outlet_Location_Type'])\n",
    "X_train['Outlet_Type']=label_encoder.fit_transform(X_train['Outlet_Type'])"
   ]
  },
  {
   "cell_type": "code",
   "execution_count": 29,
   "id": "4f1a7cb4",
   "metadata": {},
   "outputs": [
    {
     "name": "stdout",
     "output_type": "stream",
     "text": [
      "      Item_Identifier  Item_Weight  Item_Fat_Content  Item_Visibility  \\\n",
      "0            0.849580     0.702292              0.25         0.090031   \n",
      "1            0.681730     0.636797              0.50         0.000000   \n",
      "2            0.406068     0.464126              0.50         0.483313   \n",
      "3            0.260813     0.203632              0.25         0.044546   \n",
      "4            0.179471     0.880917              0.25         0.050687   \n",
      "...               ...          ...               ...              ...   \n",
      "6387         0.752098     0.288181              0.50         0.871963   \n",
      "6388         0.167850     0.657636              0.25         0.358032   \n",
      "6389         0.939316     0.776719              0.25         0.057686   \n",
      "6390         0.390575     0.940458              0.75         0.165543   \n",
      "6391         0.907682     0.702292              0.00         0.051747   \n",
      "\n",
      "      Item_Type  Item_MRP  Outlet_Identifier  Outlet_Establishment_Year  \\\n",
      "0      0.600000  0.955756           0.333333                      1.000   \n",
      "1      0.866667  0.630208           0.333333                      1.000   \n",
      "2      0.666667  0.534828           1.000000                      0.500   \n",
      "3      0.000000  0.216619           0.666667                      0.750   \n",
      "4      0.333333  0.380392           0.777778                      0.625   \n",
      "...         ...       ...                ...                        ...   \n",
      "6387   0.400000  0.457956           0.000000                      0.375   \n",
      "6388   0.333333  0.188359           0.222222                      0.875   \n",
      "6389   0.533333  0.874662           0.777778                      0.625   \n",
      "6390   0.866667  0.367815           0.222222                      0.875   \n",
      "6391   0.600000  0.273563           0.888889                      0.250   \n",
      "\n",
      "      Outlet_Size  Outlet_Location_Type  Outlet_Type  \n",
      "0             0.5                   1.0     0.666667  \n",
      "1             0.5                   1.0     0.666667  \n",
      "2             0.5                   0.0     0.333333  \n",
      "3             1.0                   0.5     0.333333  \n",
      "4             0.0                   0.5     0.333333  \n",
      "...           ...                   ...          ...  \n",
      "6387          0.0                   1.0     0.000000  \n",
      "6388          0.0                   0.5     0.333333  \n",
      "6389          0.0                   0.5     0.333333  \n",
      "6390          0.0                   0.5     0.333333  \n",
      "6391          1.0                   0.0     0.333333  \n",
      "\n",
      "[6392 rows x 11 columns]\n"
     ]
    }
   ],
   "source": [
    "from sklearn.preprocessing import MinMaxScaler\n",
    "scaler = MinMaxScaler()\n",
    "X_train_scaled = scaler.fit_transform(X_train)\n",
    "X_train_scaled = pd.DataFrame(X_train_scaled)\n",
    "X_train_scaled.columns = X_train.columns\n",
    "X_train = X_train_scaled\n",
    "print(X_train)"
   ]
  },
  {
   "cell_type": "code",
   "execution_count": 30,
   "id": "60247092",
   "metadata": {},
   "outputs": [],
   "source": [
    "X_test['Item_Weight'] = X_test['Item_Weight'].fillna(X_test['Item_Weight'].mean())\n",
    "X_test['Outlet_Size'] = X_test['Outlet_Size'].fillna('High')\n",
    "X_test['Outlet_Establishment_Year'] = X_test['Outlet_Establishment_Year'].apply(str)"
   ]
  },
  {
   "cell_type": "code",
   "execution_count": 31,
   "id": "bc939a70",
   "metadata": {},
   "outputs": [],
   "source": [
    "from sklearn import preprocessing \n",
    "label_encoder = preprocessing.LabelEncoder() \n",
    "X_test['Item_Identifier']= label_encoder.fit_transform(X_test['Item_Identifier'])\n",
    "X_test['Item_Fat_Content']= label_encoder.fit_transform(X_test['Item_Fat_Content'])\n",
    "X_test['Item_Type']= label_encoder.fit_transform(X_test['Item_Type'])\n",
    "X_test['Outlet_Identifier']= label_encoder.fit_transform(X_test['Outlet_Identifier'])\n",
    "X_test['Outlet_Establishment_Year']= label_encoder.fit_transform(X_test['Outlet_Establishment_Year'])\n",
    "X_test['Outlet_Size']=label_encoder.fit_transform(X_test['Outlet_Size'])\n",
    "X_test['Outlet_Location_Type']=label_encoder.fit_transform(X_test['Outlet_Location_Type'])\n",
    "X_test['Outlet_Type']=label_encoder.fit_transform(X_test['Outlet_Type'])"
   ]
  },
  {
   "cell_type": "code",
   "execution_count": 32,
   "id": "f8f4822f",
   "metadata": {},
   "outputs": [
    {
     "name": "stdout",
     "output_type": "stream",
     "text": [
      "      Item_Identifier  Item_Weight  Item_Fat_Content  Item_Visibility  \\\n",
      "0            0.309645     0.579356              0.25         0.084541   \n",
      "1            0.886633     0.199284              0.25         0.228666   \n",
      "2            0.153976     0.591289              0.50         0.132801   \n",
      "3            0.008460     0.484980              0.50         0.143904   \n",
      "4            0.561760     0.334427              0.50         0.040039   \n",
      "...               ...          ...               ...              ...   \n",
      "2126         0.792724     0.776253              0.25         0.025698   \n",
      "2127         0.411168     0.334427              0.25         0.000000   \n",
      "2128         0.265651     0.209427              0.25         0.412407   \n",
      "2129         0.997462     0.119332              0.25         0.084302   \n",
      "2130         0.415398     0.627088              0.25         0.084028   \n",
      "\n",
      "      Item_Type  Item_MRP  Outlet_Identifier  Outlet_Establishment_Year  \\\n",
      "0      0.333333  0.200515           0.111111                      0.125   \n",
      "1      0.533333  0.043651           0.888889                      0.250   \n",
      "2      0.200000  0.040818           1.000000                      0.500   \n",
      "3      0.933333  0.603231           0.555556                      0.000   \n",
      "4      0.666667  0.704922           0.666667                      0.750   \n",
      "...         ...       ...                ...                        ...   \n",
      "2126   0.266667  0.594418           0.111111                      0.125   \n",
      "2127   0.333333  0.472559           0.222222                      0.875   \n",
      "2128   0.400000  0.760365           0.777778                      0.625   \n",
      "2129   0.600000  0.369587           1.000000                      0.500   \n",
      "2130   0.333333  0.497729           0.222222                      0.875   \n",
      "\n",
      "      Outlet_Size  Outlet_Location_Type  Outlet_Type  \n",
      "0             0.0                   1.0     0.333333  \n",
      "1             1.0                   0.0     0.333333  \n",
      "2             0.5                   0.0     0.333333  \n",
      "3             0.5                   1.0     1.000000  \n",
      "4             1.0                   0.5     0.333333  \n",
      "...           ...                   ...          ...  \n",
      "2126          0.0                   1.0     0.333333  \n",
      "2127          0.0                   0.5     0.333333  \n",
      "2128          0.0                   0.5     0.333333  \n",
      "2129          0.5                   0.0     0.333333  \n",
      "2130          0.0                   0.5     0.333333  \n",
      "\n",
      "[2131 rows x 11 columns]\n"
     ]
    }
   ],
   "source": [
    "from sklearn.preprocessing import MinMaxScaler\n",
    "scaler = MinMaxScaler()\n",
    "X_test_scaled = scaler.fit_transform(X_test)\n",
    "X_test_scaled = pd.DataFrame(X_test_scaled)\n",
    "X_test_scaled.columns = X_test.columns\n",
    "X_test = X_test_scaled\n",
    "print(X_test)"
   ]
  },
  {
   "cell_type": "code",
   "execution_count": 33,
   "id": "95889dd2",
   "metadata": {},
   "outputs": [],
   "source": [
    "from sklearn.linear_model import LinearRegression"
   ]
  },
  {
   "cell_type": "code",
   "execution_count": 34,
   "id": "17428b0c",
   "metadata": {},
   "outputs": [],
   "source": [
    "model = LinearRegression()"
   ]
  },
  {
   "cell_type": "code",
   "execution_count": 35,
   "id": "48914fce",
   "metadata": {},
   "outputs": [
    {
     "data": {
      "text/plain": [
       "LinearRegression()"
      ]
     },
     "execution_count": 35,
     "metadata": {},
     "output_type": "execute_result"
    }
   ],
   "source": [
    "model.fit(X_train, y_train)"
   ]
  },
  {
   "cell_type": "code",
   "execution_count": 36,
   "id": "902a5b92",
   "metadata": {},
   "outputs": [],
   "source": [
    "r_sq = model.score(X_train, y_train)"
   ]
  },
  {
   "cell_type": "code",
   "execution_count": 37,
   "id": "0b14597b",
   "metadata": {},
   "outputs": [
    {
     "name": "stdout",
     "output_type": "stream",
     "text": [
      "predicted response:\n",
      "[ 917.50824632  606.23037687  948.58484792 ... 3339.13368738 2178.80671567\n",
      " 2180.33895246]\n"
     ]
    }
   ],
   "source": [
    "y_pred = model.predict(X_test)\n",
    "print('predicted response:', y_pred, sep='\\n')"
   ]
  },
  {
   "cell_type": "code",
   "execution_count": 38,
   "id": "3beccbd5",
   "metadata": {},
   "outputs": [
    {
     "name": "stdout",
     "output_type": "stream",
     "text": [
      "coefficient of determination: 0.5092382563146445\n"
     ]
    }
   ],
   "source": [
    "print('coefficient of determination:', r_sq)"
   ]
  },
  {
   "cell_type": "code",
   "execution_count": 39,
   "id": "f5c68be8",
   "metadata": {},
   "outputs": [
    {
     "name": "stdout",
     "output_type": "stream",
     "text": [
      "intercept: -386.07911889113484\n"
     ]
    }
   ],
   "source": [
    "print('intercept:', model.intercept_)"
   ]
  },
  {
   "cell_type": "code",
   "execution_count": 40,
   "id": "fa757b95",
   "metadata": {},
   "outputs": [
    {
     "name": "stdout",
     "output_type": "stream",
     "text": [
      "coefficients: [  25.33260456  -36.78293757  188.4650706  -536.39928587   -8.12744688\n",
      " 3698.17443074  575.05306779 -132.64967255 -507.66178328 -396.14944982\n",
      " 2775.87354175]\n"
     ]
    }
   ],
   "source": [
    "print('coefficients:', model.coef_)"
   ]
  },
  {
   "cell_type": "code",
   "execution_count": 41,
   "id": "5c6f5a7e",
   "metadata": {},
   "outputs": [],
   "source": [
    "from sklearn.svm import SVR"
   ]
  },
  {
   "cell_type": "code",
   "execution_count": 42,
   "id": "e6514ad8",
   "metadata": {},
   "outputs": [],
   "source": [
    "model2 = SVR()"
   ]
  },
  {
   "cell_type": "code",
   "execution_count": 43,
   "id": "2c9b05fb",
   "metadata": {},
   "outputs": [
    {
     "data": {
      "text/plain": [
       "SVR()"
      ]
     },
     "execution_count": 43,
     "metadata": {},
     "output_type": "execute_result"
    }
   ],
   "source": [
    "model2.fit(X_train, y_train)"
   ]
  },
  {
   "cell_type": "code",
   "execution_count": 44,
   "id": "886a6ded",
   "metadata": {},
   "outputs": [],
   "source": [
    "r_sq2 = model2.score(X_train, y_train)"
   ]
  },
  {
   "cell_type": "code",
   "execution_count": 45,
   "id": "601eb1be",
   "metadata": {},
   "outputs": [
    {
     "name": "stdout",
     "output_type": "stream",
     "text": [
      "predicted response:\n",
      "[ 917.50824632  606.23037687  948.58484792 ... 3339.13368738 2178.80671567\n",
      " 2180.33895246]\n"
     ]
    }
   ],
   "source": [
    "y_pred2 = model.predict(X_test)\n",
    "print('predicted response:', y_pred2, sep='\\n')"
   ]
  },
  {
   "cell_type": "code",
   "execution_count": 46,
   "id": "8d9692ba",
   "metadata": {},
   "outputs": [
    {
     "name": "stdout",
     "output_type": "stream",
     "text": [
      "coefficient of determination: 0.03900052353123973\n"
     ]
    }
   ],
   "source": [
    "print('coefficient of determination:', r_sq2)"
   ]
  },
  {
   "cell_type": "code",
   "execution_count": 47,
   "id": "c4cf1a68",
   "metadata": {},
   "outputs": [],
   "source": [
    "from sklearn.ensemble import RandomForestRegressor"
   ]
  },
  {
   "cell_type": "code",
   "execution_count": 48,
   "id": "81fe1c43",
   "metadata": {},
   "outputs": [
    {
     "name": "stdout",
     "output_type": "stream",
     "text": [
      "predicted response:\n",
      "[ 917.50824632  606.23037687  948.58484792 ... 3339.13368738 2178.80671567\n",
      " 2180.33895246]\n",
      "coefficient of determination: 0.9384365942339886\n"
     ]
    }
   ],
   "source": [
    "model2 = RandomForestRegressor()\n",
    "model2.fit(X_train, y_train)\n",
    "r_sq2 = model2.score(X_train, y_train)\n",
    "y_pred2 = model.predict(X_test)\n",
    "print('predicted response:', y_pred2, sep='\\n')\n",
    "print('coefficient of determination:', r_sq2)"
   ]
  },
  {
   "cell_type": "code",
   "execution_count": 49,
   "id": "d49f41e3",
   "metadata": {},
   "outputs": [],
   "source": [
    "test = pd.read_csv('D:/Learning/BigMart SalesPrediction/test.csv')"
   ]
  },
  {
   "cell_type": "code",
   "execution_count": 50,
   "id": "902ee95c",
   "metadata": {},
   "outputs": [
    {
     "data": {
      "text/html": [
       "<div>\n",
       "<style scoped>\n",
       "    .dataframe tbody tr th:only-of-type {\n",
       "        vertical-align: middle;\n",
       "    }\n",
       "\n",
       "    .dataframe tbody tr th {\n",
       "        vertical-align: top;\n",
       "    }\n",
       "\n",
       "    .dataframe thead th {\n",
       "        text-align: right;\n",
       "    }\n",
       "</style>\n",
       "<table border=\"1\" class=\"dataframe\">\n",
       "  <thead>\n",
       "    <tr style=\"text-align: right;\">\n",
       "      <th></th>\n",
       "      <th>Item_Identifier</th>\n",
       "      <th>Item_Weight</th>\n",
       "      <th>Item_Fat_Content</th>\n",
       "      <th>Item_Visibility</th>\n",
       "      <th>Item_Type</th>\n",
       "      <th>Item_MRP</th>\n",
       "      <th>Outlet_Identifier</th>\n",
       "      <th>Outlet_Establishment_Year</th>\n",
       "      <th>Outlet_Size</th>\n",
       "      <th>Outlet_Location_Type</th>\n",
       "      <th>Outlet_Type</th>\n",
       "    </tr>\n",
       "  </thead>\n",
       "  <tbody>\n",
       "    <tr>\n",
       "      <th>0</th>\n",
       "      <td>FDW58</td>\n",
       "      <td>20.750</td>\n",
       "      <td>Low Fat</td>\n",
       "      <td>0.007565</td>\n",
       "      <td>Snack Foods</td>\n",
       "      <td>107.8622</td>\n",
       "      <td>OUT049</td>\n",
       "      <td>1999</td>\n",
       "      <td>Medium</td>\n",
       "      <td>Tier 1</td>\n",
       "      <td>Supermarket Type1</td>\n",
       "    </tr>\n",
       "    <tr>\n",
       "      <th>1</th>\n",
       "      <td>FDW14</td>\n",
       "      <td>8.300</td>\n",
       "      <td>reg</td>\n",
       "      <td>0.038428</td>\n",
       "      <td>Dairy</td>\n",
       "      <td>87.3198</td>\n",
       "      <td>OUT017</td>\n",
       "      <td>2007</td>\n",
       "      <td>NaN</td>\n",
       "      <td>Tier 2</td>\n",
       "      <td>Supermarket Type1</td>\n",
       "    </tr>\n",
       "    <tr>\n",
       "      <th>2</th>\n",
       "      <td>NCN55</td>\n",
       "      <td>14.600</td>\n",
       "      <td>Low Fat</td>\n",
       "      <td>0.099575</td>\n",
       "      <td>Others</td>\n",
       "      <td>241.7538</td>\n",
       "      <td>OUT010</td>\n",
       "      <td>1998</td>\n",
       "      <td>NaN</td>\n",
       "      <td>Tier 3</td>\n",
       "      <td>Grocery Store</td>\n",
       "    </tr>\n",
       "    <tr>\n",
       "      <th>3</th>\n",
       "      <td>FDQ58</td>\n",
       "      <td>7.315</td>\n",
       "      <td>Low Fat</td>\n",
       "      <td>0.015388</td>\n",
       "      <td>Snack Foods</td>\n",
       "      <td>155.0340</td>\n",
       "      <td>OUT017</td>\n",
       "      <td>2007</td>\n",
       "      <td>NaN</td>\n",
       "      <td>Tier 2</td>\n",
       "      <td>Supermarket Type1</td>\n",
       "    </tr>\n",
       "    <tr>\n",
       "      <th>4</th>\n",
       "      <td>FDY38</td>\n",
       "      <td>NaN</td>\n",
       "      <td>Regular</td>\n",
       "      <td>0.118599</td>\n",
       "      <td>Dairy</td>\n",
       "      <td>234.2300</td>\n",
       "      <td>OUT027</td>\n",
       "      <td>1985</td>\n",
       "      <td>Medium</td>\n",
       "      <td>Tier 3</td>\n",
       "      <td>Supermarket Type3</td>\n",
       "    </tr>\n",
       "  </tbody>\n",
       "</table>\n",
       "</div>"
      ],
      "text/plain": [
       "  Item_Identifier  Item_Weight Item_Fat_Content  Item_Visibility    Item_Type  \\\n",
       "0           FDW58       20.750          Low Fat         0.007565  Snack Foods   \n",
       "1           FDW14        8.300              reg         0.038428        Dairy   \n",
       "2           NCN55       14.600          Low Fat         0.099575       Others   \n",
       "3           FDQ58        7.315          Low Fat         0.015388  Snack Foods   \n",
       "4           FDY38          NaN          Regular         0.118599        Dairy   \n",
       "\n",
       "   Item_MRP Outlet_Identifier  Outlet_Establishment_Year Outlet_Size  \\\n",
       "0  107.8622            OUT049                       1999      Medium   \n",
       "1   87.3198            OUT017                       2007         NaN   \n",
       "2  241.7538            OUT010                       1998         NaN   \n",
       "3  155.0340            OUT017                       2007         NaN   \n",
       "4  234.2300            OUT027                       1985      Medium   \n",
       "\n",
       "  Outlet_Location_Type        Outlet_Type  \n",
       "0               Tier 1  Supermarket Type1  \n",
       "1               Tier 2  Supermarket Type1  \n",
       "2               Tier 3      Grocery Store  \n",
       "3               Tier 2  Supermarket Type1  \n",
       "4               Tier 3  Supermarket Type3  "
      ]
     },
     "execution_count": 50,
     "metadata": {},
     "output_type": "execute_result"
    }
   ],
   "source": [
    "test.head()"
   ]
  },
  {
   "cell_type": "code",
   "execution_count": 51,
   "id": "3e824b51",
   "metadata": {},
   "outputs": [],
   "source": [
    "test['Item_Weight'] = test['Item_Weight'].fillna(test['Item_Weight'].mean())\n",
    "test['Outlet_Size'] = test['Outlet_Size'].fillna('High')\n",
    "test['Outlet_Establishment_Year'] = test['Outlet_Establishment_Year'].apply(str)"
   ]
  },
  {
   "cell_type": "code",
   "execution_count": 52,
   "id": "49875ec3",
   "metadata": {},
   "outputs": [],
   "source": [
    "from sklearn import preprocessing \n",
    "label_encoder = preprocessing.LabelEncoder() \n",
    "test['Item_Identifier']= label_encoder.fit_transform(test['Item_Identifier'])\n",
    "test['Item_Fat_Content']= label_encoder.fit_transform(test['Item_Fat_Content'])\n",
    "test['Item_Type']= label_encoder.fit_transform(test['Item_Type'])\n",
    "test['Outlet_Identifier']= label_encoder.fit_transform(test['Outlet_Identifier'])\n",
    "test['Outlet_Establishment_Year']= label_encoder.fit_transform(test['Outlet_Establishment_Year'])\n",
    "test['Outlet_Size']=label_encoder.fit_transform(test['Outlet_Size'])\n",
    "test['Outlet_Location_Type']=label_encoder.fit_transform(test['Outlet_Location_Type'])\n",
    "test['Outlet_Type']=label_encoder.fit_transform(test['Outlet_Type'])"
   ]
  },
  {
   "cell_type": "code",
   "execution_count": 53,
   "id": "32f96ec9",
   "metadata": {},
   "outputs": [
    {
     "name": "stdout",
     "output_type": "stream",
     "text": [
      "      Item_Identifier  Item_Weight  Item_Fat_Content  Item_Visibility  \\\n",
      "0                1103    20.750000                 1         0.007565   \n",
      "1                1067     8.300000                 4         0.038428   \n",
      "2                1406    14.600000                 1         0.099575   \n",
      "3                 809     7.315000                 1         0.015388   \n",
      "4                1184    12.695633                 2         0.118599   \n",
      "...               ...          ...               ...              ...   \n",
      "5676              231    10.500000                 2         0.013496   \n",
      "5677              306     7.600000                 2         0.142991   \n",
      "5678             1412    10.000000                 1         0.073529   \n",
      "5679              517    15.300000                 2         0.000000   \n",
      "5680              987     9.500000                 2         0.104720   \n",
      "\n",
      "      Item_Type  Item_MRP  Outlet_Identifier  Outlet_Establishment_Year  \\\n",
      "0            13  107.8622                  9                          4   \n",
      "1             4   87.3198                  2                          7   \n",
      "2            11  241.7538                  0                          3   \n",
      "3            13  155.0340                  2                          7   \n",
      "4             4  234.2300                  5                          0   \n",
      "...         ...       ...                ...                        ...   \n",
      "5676         13  141.3154                  8                          2   \n",
      "5677         15  169.1448                  3                          8   \n",
      "5678          8  118.7440                  7                          5   \n",
      "5679          3  214.6218                  2                          7   \n",
      "5680          3   79.7960                  7                          5   \n",
      "\n",
      "      Outlet_Size  Outlet_Location_Type  Outlet_Type  \n",
      "0               1                     0            1  \n",
      "1               0                     1            1  \n",
      "2               0                     2            0  \n",
      "3               0                     1            1  \n",
      "4               1                     2            3  \n",
      "...           ...                   ...          ...  \n",
      "5676            2                     0            1  \n",
      "5677            1                     2            2  \n",
      "5678            0                     1            1  \n",
      "5679            0                     1            1  \n",
      "5680            0                     1            1  \n",
      "\n",
      "[5681 rows x 11 columns]\n"
     ]
    }
   ],
   "source": [
    "from sklearn.preprocessing import MinMaxScaler\n",
    "scaler = MinMaxScaler()\n",
    "test_scaled = scaler.fit_transform(test)\n",
    "test_scaled = pd.DataFrame(test)\n",
    "test_scaled.columns = test.columns\n",
    "test = test_scaled\n",
    "print(test)"
   ]
  },
  {
   "cell_type": "code",
   "execution_count": 54,
   "id": "b71a929c",
   "metadata": {},
   "outputs": [],
   "source": [
    "test_predictions = model.predict(test)"
   ]
  },
  {
   "cell_type": "code",
   "execution_count": 55,
   "id": "2a514fcc",
   "metadata": {},
   "outputs": [],
   "source": [
    "test2 = pd.read_csv('D:/Learning/BigMart SalesPrediction/test.csv')"
   ]
  },
  {
   "cell_type": "code",
   "execution_count": 56,
   "id": "e8938c09",
   "metadata": {},
   "outputs": [],
   "source": [
    "submission_df_1 = pd.DataFrame({\n",
    "                  \"Item_Identifier\": test2['Item_Identifier'],\n",
    "                  \"Outlet_Identifier\": test2['Outlet_Identifier'],\n",
    "                  \"Item_Outlet_Sales\": test_predictions})"
   ]
  },
  {
   "cell_type": "code",
   "execution_count": 57,
   "id": "be1e6213",
   "metadata": {},
   "outputs": [
    {
     "data": {
      "text/html": [
       "<div>\n",
       "<style scoped>\n",
       "    .dataframe tbody tr th:only-of-type {\n",
       "        vertical-align: middle;\n",
       "    }\n",
       "\n",
       "    .dataframe tbody tr th {\n",
       "        vertical-align: top;\n",
       "    }\n",
       "\n",
       "    .dataframe thead th {\n",
       "        text-align: right;\n",
       "    }\n",
       "</style>\n",
       "<table border=\"1\" class=\"dataframe\">\n",
       "  <thead>\n",
       "    <tr style=\"text-align: right;\">\n",
       "      <th></th>\n",
       "      <th>Item_Identifier</th>\n",
       "      <th>Outlet_Identifier</th>\n",
       "      <th>Item_Outlet_Sales</th>\n",
       "    </tr>\n",
       "  </thead>\n",
       "  <tbody>\n",
       "    <tr>\n",
       "      <th>0</th>\n",
       "      <td>FDW58</td>\n",
       "      <td>OUT049</td>\n",
       "      <td>432677.609011</td>\n",
       "    </tr>\n",
       "    <tr>\n",
       "      <th>1</th>\n",
       "      <td>FDW14</td>\n",
       "      <td>OUT017</td>\n",
       "      <td>352564.383662</td>\n",
       "    </tr>\n",
       "    <tr>\n",
       "      <th>2</th>\n",
       "      <td>NCN55</td>\n",
       "      <td>OUT010</td>\n",
       "      <td>927597.657031</td>\n",
       "    </tr>\n",
       "    <tr>\n",
       "      <th>3</th>\n",
       "      <td>FDQ58</td>\n",
       "      <td>OUT017</td>\n",
       "      <td>595857.541938</td>\n",
       "    </tr>\n",
       "    <tr>\n",
       "      <th>4</th>\n",
       "      <td>FDY38</td>\n",
       "      <td>OUT027</td>\n",
       "      <td>905547.867954</td>\n",
       "    </tr>\n",
       "  </tbody>\n",
       "</table>\n",
       "</div>"
      ],
      "text/plain": [
       "  Item_Identifier Outlet_Identifier  Item_Outlet_Sales\n",
       "0           FDW58            OUT049      432677.609011\n",
       "1           FDW14            OUT017      352564.383662\n",
       "2           NCN55            OUT010      927597.657031\n",
       "3           FDQ58            OUT017      595857.541938\n",
       "4           FDY38            OUT027      905547.867954"
      ]
     },
     "execution_count": 57,
     "metadata": {},
     "output_type": "execute_result"
    }
   ],
   "source": [
    "submission_df_1.head()"
   ]
  },
  {
   "cell_type": "code",
   "execution_count": 58,
   "id": "3c2904ae",
   "metadata": {},
   "outputs": [],
   "source": [
    "submission_df_1.to_csv('D:/Learning/BigMart SalesPrediction/Sales_Predictions.csv', index=False)"
   ]
  },
  {
   "cell_type": "code",
   "execution_count": null,
   "id": "fbbcee6c",
   "metadata": {},
   "outputs": [],
   "source": []
  },
  {
   "cell_type": "code",
   "execution_count": null,
   "id": "250ea407",
   "metadata": {},
   "outputs": [],
   "source": []
  }
 ],
 "metadata": {
  "kernelspec": {
   "display_name": "Python 3 (ipykernel)",
   "language": "python",
   "name": "python3"
  },
  "language_info": {
   "codemirror_mode": {
    "name": "ipython",
    "version": 3
   },
   "file_extension": ".py",
   "mimetype": "text/x-python",
   "name": "python",
   "nbconvert_exporter": "python",
   "pygments_lexer": "ipython3",
   "version": "3.9.7"
  }
 },
 "nbformat": 4,
 "nbformat_minor": 5
}
